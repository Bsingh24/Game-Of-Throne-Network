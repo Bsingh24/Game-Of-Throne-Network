{
 "cells": [
  {
   "cell_type": "code",
   "execution_count": 1,
   "id": "ae7b9521-f85d-496b-b351-4d332d2d86d1",
   "metadata": {},
   "outputs": [],
   "source": [
    "import pandas as pd\n",
    "import numpy as np\n",
    "import spacy\n",
    "from spacy import displacy\n",
    "import networkx as nx\n",
    "import scipy\n",
    "import matplotlib.pyplot as plt"
   ]
  },
  {
   "cell_type": "code",
   "execution_count": 2,
   "id": "0278425b-cb34-49eb-9a7f-e592ad688ebb",
   "metadata": {
    "tags": []
   },
   "outputs": [
    {
     "name": "stdout",
     "output_type": "stream",
     "text": [
      "Collecting en-core-web-sm==3.4.1\n",
      "  Downloading https://github.com/explosion/spacy-models/releases/download/en_core_web_sm-3.4.1/en_core_web_sm-3.4.1-py3-none-any.whl (12.8 MB)\n",
      "     --------------------------------------- 12.8/12.8 MB 25.2 MB/s eta 0:00:00\n",
      "Requirement already satisfied: spacy<3.5.0,>=3.4.0 in c:\\users\\baljo\\onedrive\\desktop\\ds\\got-project\\got\\lib\\site-packages (from en-core-web-sm==3.4.1) (3.4.3)\n",
      "Requirement already satisfied: spacy-legacy<3.1.0,>=3.0.10 in c:\\users\\baljo\\onedrive\\desktop\\ds\\got-project\\got\\lib\\site-packages (from spacy<3.5.0,>=3.4.0->en-core-web-sm==3.4.1) (3.0.10)\n",
      "Requirement already satisfied: spacy-loggers<2.0.0,>=1.0.0 in c:\\users\\baljo\\onedrive\\desktop\\ds\\got-project\\got\\lib\\site-packages (from spacy<3.5.0,>=3.4.0->en-core-web-sm==3.4.1) (1.0.3)\n",
      "Requirement already satisfied: murmurhash<1.1.0,>=0.28.0 in c:\\users\\baljo\\onedrive\\desktop\\ds\\got-project\\got\\lib\\site-packages (from spacy<3.5.0,>=3.4.0->en-core-web-sm==3.4.1) (1.0.9)\n",
      "Requirement already satisfied: cymem<2.1.0,>=2.0.2 in c:\\users\\baljo\\onedrive\\desktop\\ds\\got-project\\got\\lib\\site-packages (from spacy<3.5.0,>=3.4.0->en-core-web-sm==3.4.1) (2.0.7)\n",
      "Requirement already satisfied: preshed<3.1.0,>=3.0.2 in c:\\users\\baljo\\onedrive\\desktop\\ds\\got-project\\got\\lib\\site-packages (from spacy<3.5.0,>=3.4.0->en-core-web-sm==3.4.1) (3.0.8)\n",
      "Requirement already satisfied: thinc<8.2.0,>=8.1.0 in c:\\users\\baljo\\onedrive\\desktop\\ds\\got-project\\got\\lib\\site-packages (from spacy<3.5.0,>=3.4.0->en-core-web-sm==3.4.1) (8.1.5)\n",
      "Requirement already satisfied: wasabi<1.1.0,>=0.9.1 in c:\\users\\baljo\\onedrive\\desktop\\ds\\got-project\\got\\lib\\site-packages (from spacy<3.5.0,>=3.4.0->en-core-web-sm==3.4.1) (0.10.1)\n",
      "Requirement already satisfied: srsly<3.0.0,>=2.4.3 in c:\\users\\baljo\\onedrive\\desktop\\ds\\got-project\\got\\lib\\site-packages (from spacy<3.5.0,>=3.4.0->en-core-web-sm==3.4.1) (2.4.5)\n",
      "Requirement already satisfied: catalogue<2.1.0,>=2.0.6 in c:\\users\\baljo\\onedrive\\desktop\\ds\\got-project\\got\\lib\\site-packages (from spacy<3.5.0,>=3.4.0->en-core-web-sm==3.4.1) (2.0.8)\n",
      "Requirement already satisfied: typer<0.8.0,>=0.3.0 in c:\\users\\baljo\\onedrive\\desktop\\ds\\got-project\\got\\lib\\site-packages (from spacy<3.5.0,>=3.4.0->en-core-web-sm==3.4.1) (0.7.0)\n",
      "Requirement already satisfied: pathy>=0.3.5 in c:\\users\\baljo\\onedrive\\desktop\\ds\\got-project\\got\\lib\\site-packages (from spacy<3.5.0,>=3.4.0->en-core-web-sm==3.4.1) (0.10.0)\n",
      "Requirement already satisfied: tqdm<5.0.0,>=4.38.0 in c:\\users\\baljo\\onedrive\\desktop\\ds\\got-project\\got\\lib\\site-packages (from spacy<3.5.0,>=3.4.0->en-core-web-sm==3.4.1) (4.64.1)\n",
      "Requirement already satisfied: numpy>=1.15.0 in c:\\users\\baljo\\onedrive\\desktop\\ds\\got-project\\got\\lib\\site-packages (from spacy<3.5.0,>=3.4.0->en-core-web-sm==3.4.1) (1.23.5)\n",
      "Requirement already satisfied: requests<3.0.0,>=2.13.0 in c:\\users\\baljo\\onedrive\\desktop\\ds\\got-project\\got\\lib\\site-packages (from spacy<3.5.0,>=3.4.0->en-core-web-sm==3.4.1) (2.28.1)\n",
      "Requirement already satisfied: pydantic!=1.8,!=1.8.1,<1.11.0,>=1.7.4 in c:\\users\\baljo\\onedrive\\desktop\\ds\\got-project\\got\\lib\\site-packages (from spacy<3.5.0,>=3.4.0->en-core-web-sm==3.4.1) (1.10.2)\n",
      "Requirement already satisfied: jinja2 in c:\\users\\baljo\\onedrive\\desktop\\ds\\got-project\\got\\lib\\site-packages (from spacy<3.5.0,>=3.4.0->en-core-web-sm==3.4.1) (3.1.2)\n",
      "Requirement already satisfied: setuptools in c:\\users\\baljo\\onedrive\\desktop\\ds\\got-project\\got\\lib\\site-packages (from spacy<3.5.0,>=3.4.0->en-core-web-sm==3.4.1) (58.5.3)\n",
      "Requirement already satisfied: packaging>=20.0 in c:\\users\\baljo\\onedrive\\desktop\\ds\\got-project\\got\\lib\\site-packages (from spacy<3.5.0,>=3.4.0->en-core-web-sm==3.4.1) (21.3)\n",
      "Requirement already satisfied: langcodes<4.0.0,>=3.2.0 in c:\\users\\baljo\\onedrive\\desktop\\ds\\got-project\\got\\lib\\site-packages (from spacy<3.5.0,>=3.4.0->en-core-web-sm==3.4.1) (3.3.0)\n",
      "Requirement already satisfied: pyparsing!=3.0.5,>=2.0.2 in c:\\users\\baljo\\onedrive\\desktop\\ds\\got-project\\got\\lib\\site-packages (from packaging>=20.0->spacy<3.5.0,>=3.4.0->en-core-web-sm==3.4.1) (3.0.9)\n",
      "Requirement already satisfied: smart-open<6.0.0,>=5.2.1 in c:\\users\\baljo\\onedrive\\desktop\\ds\\got-project\\got\\lib\\site-packages (from pathy>=0.3.5->spacy<3.5.0,>=3.4.0->en-core-web-sm==3.4.1) (5.2.1)\n",
      "Requirement already satisfied: typing-extensions>=4.1.0 in c:\\users\\baljo\\onedrive\\desktop\\ds\\got-project\\got\\lib\\site-packages (from pydantic!=1.8,!=1.8.1,<1.11.0,>=1.7.4->spacy<3.5.0,>=3.4.0->en-core-web-sm==3.4.1) (4.4.0)\n",
      "Requirement already satisfied: charset-normalizer<3,>=2 in c:\\users\\baljo\\onedrive\\desktop\\ds\\got-project\\got\\lib\\site-packages (from requests<3.0.0,>=2.13.0->spacy<3.5.0,>=3.4.0->en-core-web-sm==3.4.1) (2.1.1)\n",
      "Requirement already satisfied: idna<4,>=2.5 in c:\\users\\baljo\\onedrive\\desktop\\ds\\got-project\\got\\lib\\site-packages (from requests<3.0.0,>=2.13.0->spacy<3.5.0,>=3.4.0->en-core-web-sm==3.4.1) (3.4)\n",
      "Requirement already satisfied: urllib3<1.27,>=1.21.1 in c:\\users\\baljo\\onedrive\\desktop\\ds\\got-project\\got\\lib\\site-packages (from requests<3.0.0,>=2.13.0->spacy<3.5.0,>=3.4.0->en-core-web-sm==3.4.1) (1.26.13)\n",
      "Requirement already satisfied: certifi>=2017.4.17 in c:\\users\\baljo\\onedrive\\desktop\\ds\\got-project\\got\\lib\\site-packages (from requests<3.0.0,>=2.13.0->spacy<3.5.0,>=3.4.0->en-core-web-sm==3.4.1) (2022.9.24)\n",
      "Requirement already satisfied: blis<0.8.0,>=0.7.8 in c:\\users\\baljo\\onedrive\\desktop\\ds\\got-project\\got\\lib\\site-packages (from thinc<8.2.0,>=8.1.0->spacy<3.5.0,>=3.4.0->en-core-web-sm==3.4.1) (0.7.9)\n",
      "Requirement already satisfied: confection<1.0.0,>=0.0.1 in c:\\users\\baljo\\onedrive\\desktop\\ds\\got-project\\got\\lib\\site-packages (from thinc<8.2.0,>=8.1.0->spacy<3.5.0,>=3.4.0->en-core-web-sm==3.4.1) (0.0.3)\n",
      "Requirement already satisfied: colorama in c:\\users\\baljo\\onedrive\\desktop\\ds\\got-project\\got\\lib\\site-packages (from tqdm<5.0.0,>=4.38.0->spacy<3.5.0,>=3.4.0->en-core-web-sm==3.4.1) (0.4.6)\n",
      "Requirement already satisfied: click<9.0.0,>=7.1.1 in c:\\users\\baljo\\onedrive\\desktop\\ds\\got-project\\got\\lib\\site-packages (from typer<0.8.0,>=0.3.0->spacy<3.5.0,>=3.4.0->en-core-web-sm==3.4.1) (8.1.3)\n",
      "Requirement already satisfied: MarkupSafe>=2.0 in c:\\users\\baljo\\onedrive\\desktop\\ds\\got-project\\got\\lib\\site-packages (from jinja2->spacy<3.5.0,>=3.4.0->en-core-web-sm==3.4.1) (2.1.1)\n",
      "[+] Download and installation successful\n",
      "You can now load the package via spacy.load('en_core_web_sm')\n"
     ]
    }
   ],
   "source": [
    "!python -m spacy download en_core_web_sm"
   ]
  },
  {
   "cell_type": "code",
   "execution_count": 3,
   "id": "18e3c485-0ab0-4a6d-9e1f-f64e6ca5378e",
   "metadata": {},
   "outputs": [],
   "source": [
    "#IF USING A VIRTUAL ENVIRONMENT, THE DOWNLOAD WILL BE THERE!!!\n",
    "#English Language Model\n",
    "ELM = spacy.load(r'C:\\Users\\Baljo\\OneDrive\\Desktop\\DS\\GOT-Project\\GOT\\Lib\\site-packages\\en_core_web_sm\\en_core_web_sm-3.4.1')"
   ]
  },
  {
   "cell_type": "markdown",
   "id": "979c166c-15d7-43e8-8c1c-98b42ec9dd70",
   "metadata": {},
   "source": [
    "## LOAD BOOKS"
   ]
  },
  {
   "cell_type": "code",
   "execution_count": 4,
   "id": "aac7fdc5-6f98-475e-89dc-59aee6b259dc",
   "metadata": {},
   "outputs": [],
   "source": [
    "import os\n",
    "\n",
    "#Books in directory\n",
    "all_books = [b for b in os.scandir('BookData') if '.txt' in b.name]\n",
    "\n",
    "#Doing book 1 for practice (A Game of Thrones)\n",
    "book1_P1 = all_books[4]\n",
    "book1_P2 = all_books[5]\n"
   ]
  },
  {
   "cell_type": "markdown",
   "id": "c30ad62e-a693-4250-80c2-7079c1465132",
   "metadata": {},
   "source": [
    "## Visualize"
   ]
  },
  {
   "cell_type": "code",
   "execution_count": 5,
   "id": "4e9cecc3-a319-4ff9-a8f5-ebf1a61116e8",
   "metadata": {
    "tags": []
   },
   "outputs": [],
   "source": [
    "book1P1_txt = open(book1_P1, encoding='utf-8').read()\n",
    "book1P1_doc = ELM(book1P1_txt)\n",
    "\n",
    "book1P2_txt = open(book1_P2, encoding='utf-8').read()\n",
    "book1P2_doc = ELM(book1P2_txt)\n",
    "\n",
    "#displacy.render(book1P1_doc[0:100], style=\"ent\", jupyter=True)"
   ]
  },
  {
   "cell_type": "code",
   "execution_count": 6,
   "id": "ca93b5b8-e71c-41bf-b604-7167220d0868",
   "metadata": {},
   "outputs": [],
   "source": [
    "Book1_characters = pd.read_csv('Book1.csv')\n",
    "Book1_characters[\"First Name\"] = Book1_characters[\"FIRST_LAST\"].apply(lambda x: x.split(' ', 1)[0])"
   ]
  },
  {
   "cell_type": "code",
   "execution_count": 7,
   "id": "b1fc2baf-5056-41c6-b915-61098482c385",
   "metadata": {
    "collapsed": true,
    "jupyter": {
     "outputs_hidden": true
    },
    "tags": []
   },
   "outputs": [
    {
     "data": {
      "text/html": [
       "<div>\n",
       "<style scoped>\n",
       "    .dataframe tbody tr th:only-of-type {\n",
       "        vertical-align: middle;\n",
       "    }\n",
       "\n",
       "    .dataframe tbody tr th {\n",
       "        vertical-align: top;\n",
       "    }\n",
       "\n",
       "    .dataframe thead th {\n",
       "        text-align: right;\n",
       "    }\n",
       "</style>\n",
       "<table border=\"1\" class=\"dataframe\">\n",
       "  <thead>\n",
       "    <tr style=\"text-align: right;\">\n",
       "      <th></th>\n",
       "      <th>FIRST_LAST</th>\n",
       "      <th>First Name</th>\n",
       "    </tr>\n",
       "  </thead>\n",
       "  <tbody>\n",
       "    <tr>\n",
       "      <th>0</th>\n",
       "      <td>Tyrion Lannister</td>\n",
       "      <td>Tyrion</td>\n",
       "    </tr>\n",
       "    <tr>\n",
       "      <th>1</th>\n",
       "      <td>Jon Snow</td>\n",
       "      <td>Jon</td>\n",
       "    </tr>\n",
       "    <tr>\n",
       "      <th>2</th>\n",
       "      <td>Arya Stark</td>\n",
       "      <td>Arya</td>\n",
       "    </tr>\n",
       "    <tr>\n",
       "      <th>3</th>\n",
       "      <td>Daenerys Targaryen</td>\n",
       "      <td>Daenerys</td>\n",
       "    </tr>\n",
       "    <tr>\n",
       "      <th>4</th>\n",
       "      <td>Catelyn Stark</td>\n",
       "      <td>Catelyn</td>\n",
       "    </tr>\n",
       "    <tr>\n",
       "      <th>5</th>\n",
       "      <td>Sansa Stark</td>\n",
       "      <td>Sansa</td>\n",
       "    </tr>\n",
       "    <tr>\n",
       "      <th>6</th>\n",
       "      <td>Bran Stark</td>\n",
       "      <td>Bran</td>\n",
       "    </tr>\n",
       "    <tr>\n",
       "      <th>7</th>\n",
       "      <td>Jaime Lannister</td>\n",
       "      <td>Jaime</td>\n",
       "    </tr>\n",
       "    <tr>\n",
       "      <th>8</th>\n",
       "      <td>Eddard Stark</td>\n",
       "      <td>Eddard</td>\n",
       "    </tr>\n",
       "    <tr>\n",
       "      <th>9</th>\n",
       "      <td>Theon Greyjoy</td>\n",
       "      <td>Theon</td>\n",
       "    </tr>\n",
       "    <tr>\n",
       "      <th>10</th>\n",
       "      <td>Davos Seaworth</td>\n",
       "      <td>Davos</td>\n",
       "    </tr>\n",
       "    <tr>\n",
       "      <th>11</th>\n",
       "      <td>Cersei Lannister</td>\n",
       "      <td>Cersei</td>\n",
       "    </tr>\n",
       "    <tr>\n",
       "      <th>12</th>\n",
       "      <td>Samwell Tarly</td>\n",
       "      <td>Samwell</td>\n",
       "    </tr>\n",
       "    <tr>\n",
       "      <th>13</th>\n",
       "      <td>Brienne of Tarth</td>\n",
       "      <td>Brienne</td>\n",
       "    </tr>\n",
       "    <tr>\n",
       "      <th>14</th>\n",
       "      <td>Aeron Greyjoy</td>\n",
       "      <td>Aeron</td>\n",
       "    </tr>\n",
       "    <tr>\n",
       "      <th>15</th>\n",
       "      <td>Asha Greyjoy</td>\n",
       "      <td>Asha</td>\n",
       "    </tr>\n",
       "    <tr>\n",
       "      <th>16</th>\n",
       "      <td>Melisandre</td>\n",
       "      <td>Melisandre</td>\n",
       "    </tr>\n",
       "    <tr>\n",
       "      <th>17</th>\n",
       "      <td>Victarion Greyjoy</td>\n",
       "      <td>Victarion</td>\n",
       "    </tr>\n",
       "    <tr>\n",
       "      <th>18</th>\n",
       "      <td>Quentyn Martell</td>\n",
       "      <td>Quentyn</td>\n",
       "    </tr>\n",
       "    <tr>\n",
       "      <th>19</th>\n",
       "      <td>Joffrey Baratheon</td>\n",
       "      <td>Joffrey</td>\n",
       "    </tr>\n",
       "    <tr>\n",
       "      <th>20</th>\n",
       "      <td>Jorah Mormont</td>\n",
       "      <td>Jorah</td>\n",
       "    </tr>\n",
       "    <tr>\n",
       "      <th>21</th>\n",
       "      <td>Petyr Baelish</td>\n",
       "      <td>Petyr</td>\n",
       "    </tr>\n",
       "    <tr>\n",
       "      <th>22</th>\n",
       "      <td>Varys</td>\n",
       "      <td>Varys</td>\n",
       "    </tr>\n",
       "    <tr>\n",
       "      <th>23</th>\n",
       "      <td>Roose Bolton</td>\n",
       "      <td>Roose</td>\n",
       "    </tr>\n",
       "    <tr>\n",
       "      <th>24</th>\n",
       "      <td>Stannis Baratheon</td>\n",
       "      <td>Stannis</td>\n",
       "    </tr>\n",
       "    <tr>\n",
       "      <th>25</th>\n",
       "      <td>Tywin Lannister</td>\n",
       "      <td>Tywin</td>\n",
       "    </tr>\n",
       "    <tr>\n",
       "      <th>26</th>\n",
       "      <td>Margaery Tyrell</td>\n",
       "      <td>Margaery</td>\n",
       "    </tr>\n",
       "    <tr>\n",
       "      <th>27</th>\n",
       "      <td>Daario Naharis</td>\n",
       "      <td>Daario</td>\n",
       "    </tr>\n",
       "  </tbody>\n",
       "</table>\n",
       "</div>"
      ],
      "text/plain": [
       "            FIRST_LAST  First Name\n",
       "0     Tyrion Lannister      Tyrion\n",
       "1             Jon Snow         Jon\n",
       "2           Arya Stark        Arya\n",
       "3   Daenerys Targaryen    Daenerys\n",
       "4        Catelyn Stark     Catelyn\n",
       "5          Sansa Stark       Sansa\n",
       "6           Bran Stark        Bran\n",
       "7      Jaime Lannister       Jaime\n",
       "8         Eddard Stark      Eddard\n",
       "9        Theon Greyjoy       Theon\n",
       "10      Davos Seaworth       Davos\n",
       "11    Cersei Lannister      Cersei\n",
       "12       Samwell Tarly     Samwell\n",
       "13    Brienne of Tarth     Brienne\n",
       "14       Aeron Greyjoy       Aeron\n",
       "15        Asha Greyjoy        Asha\n",
       "16          Melisandre  Melisandre\n",
       "17   Victarion Greyjoy   Victarion\n",
       "18     Quentyn Martell     Quentyn\n",
       "19   Joffrey Baratheon     Joffrey\n",
       "20       Jorah Mormont       Jorah\n",
       "21       Petyr Baelish       Petyr\n",
       "22               Varys       Varys\n",
       "23        Roose Bolton       Roose\n",
       "24   Stannis Baratheon     Stannis\n",
       "25     Tywin Lannister       Tywin\n",
       "26     Margaery Tyrell    Margaery\n",
       "27      Daario Naharis      Daario"
      ]
     },
     "execution_count": 7,
     "metadata": {},
     "output_type": "execute_result"
    }
   ],
   "source": [
    "Book1_characters"
   ]
  },
  {
   "cell_type": "code",
   "execution_count": 8,
   "id": "d4a78e70-fb8a-4df1-92d3-4474c5b99428",
   "metadata": {},
   "outputs": [],
   "source": [
    "sent_entity_df = []\n",
    "\n",
    "for sent in book1P1_doc.sents:\n",
    "    entity_list = [ent.text for ent in sent.ents]\n",
    "    sent_entity_df.append({\"Sentence\": sent, \"Entity\":entity_list})\n",
    "\n",
    "    \n",
    "for sent in book1P2_doc.sents:\n",
    "    entity_list1 = [ent.text for ent in sent.ents]\n",
    "    sent_entity_df.append({\"Sentence\": sent, \"Entity\":entity_list1})\n",
    "    \n",
    "    \n",
    "sent_entity_df = pd.DataFrame(sent_entity_df)"
   ]
  },
  {
   "cell_type": "code",
   "execution_count": 9,
   "id": "a2430da2-fb03-4ee8-85ab-8edccf5e870f",
   "metadata": {
    "collapsed": true,
    "jupyter": {
     "outputs_hidden": true
    },
    "tags": []
   },
   "outputs": [
    {
     "data": {
      "text/html": [
       "<div>\n",
       "<style scoped>\n",
       "    .dataframe tbody tr th:only-of-type {\n",
       "        vertical-align: middle;\n",
       "    }\n",
       "\n",
       "    .dataframe tbody tr th {\n",
       "        vertical-align: top;\n",
       "    }\n",
       "\n",
       "    .dataframe thead th {\n",
       "        text-align: right;\n",
       "    }\n",
       "</style>\n",
       "<table border=\"1\" class=\"dataframe\">\n",
       "  <thead>\n",
       "    <tr style=\"text-align: right;\">\n",
       "      <th></th>\n",
       "      <th>Sentence</th>\n",
       "      <th>Entity</th>\n",
       "    </tr>\n",
       "  </thead>\n",
       "  <tbody>\n",
       "    <tr>\n",
       "      <th>0</th>\n",
       "      <td>(BRAN, \\n\\n, The, morning, had, dawned, clear,...</td>\n",
       "      <td>[the end of summer]</td>\n",
       "    </tr>\n",
       "    <tr>\n",
       "      <th>1</th>\n",
       "      <td>(They, set, forth, at, daybreak, to, see, a, m...</td>\n",
       "      <td>[twenty, Bran]</td>\n",
       "    </tr>\n",
       "    <tr>\n",
       "      <th>2</th>\n",
       "      <td>(This, was, the, first, time, he, had, been, d...</td>\n",
       "      <td>[first]</td>\n",
       "    </tr>\n",
       "    <tr>\n",
       "      <th>3</th>\n",
       "      <td>(It, was, the, ninth, year, of, summer, ,, and...</td>\n",
       "      <td>[the ninth year of summer, seventh, Bran’s]</td>\n",
       "    </tr>\n",
       "    <tr>\n",
       "      <th>4</th>\n",
       "      <td>(The, man, had, been, taken, outside, a, small...</td>\n",
       "      <td>[]</td>\n",
       "    </tr>\n",
       "    <tr>\n",
       "      <th>...</th>\n",
       "      <td>...</td>\n",
       "      <td>...</td>\n",
       "    </tr>\n",
       "    <tr>\n",
       "      <th>21816</th>\n",
       "      <td>(“, Blood, of, my, blood, ,, ”, she, heard, Ag...</td>\n",
       "      <td>[]</td>\n",
       "    </tr>\n",
       "    <tr>\n",
       "      <th>21817</th>\n",
       "      <td>(“, Blood, of, my, blood, ,, ”, Rakharo, shout...</td>\n",
       "      <td>[]</td>\n",
       "    </tr>\n",
       "    <tr>\n",
       "      <th>21818</th>\n",
       "      <td>(And, after, them, came, her, handmaids, ,, an...</td>\n",
       "      <td>[Dothraki, Dany, today, tomorrow, Drogo]</td>\n",
       "    </tr>\n",
       "    <tr>\n",
       "      <th>21819</th>\n",
       "      <td>(As, Daenerys, Targaryen, rose, to, her, feet,...</td>\n",
       "      <td>[Daenerys Targaryen]</td>\n",
       "    </tr>\n",
       "    <tr>\n",
       "      <th>21820</th>\n",
       "      <td>(The, other, two, pulled, away, from, her, bre...</td>\n",
       "      <td>[two, first, hundreds of years]</td>\n",
       "    </tr>\n",
       "  </tbody>\n",
       "</table>\n",
       "<p>21821 rows × 2 columns</p>\n",
       "</div>"
      ],
      "text/plain": [
       "                                                Sentence  \\\n",
       "0      (BRAN, \\n\\n, The, morning, had, dawned, clear,...   \n",
       "1      (They, set, forth, at, daybreak, to, see, a, m...   \n",
       "2      (This, was, the, first, time, he, had, been, d...   \n",
       "3      (It, was, the, ninth, year, of, summer, ,, and...   \n",
       "4      (The, man, had, been, taken, outside, a, small...   \n",
       "...                                                  ...   \n",
       "21816  (“, Blood, of, my, blood, ,, ”, she, heard, Ag...   \n",
       "21817  (“, Blood, of, my, blood, ,, ”, Rakharo, shout...   \n",
       "21818  (And, after, them, came, her, handmaids, ,, an...   \n",
       "21819  (As, Daenerys, Targaryen, rose, to, her, feet,...   \n",
       "21820  (The, other, two, pulled, away, from, her, bre...   \n",
       "\n",
       "                                            Entity  \n",
       "0                              [the end of summer]  \n",
       "1                                   [twenty, Bran]  \n",
       "2                                          [first]  \n",
       "3      [the ninth year of summer, seventh, Bran’s]  \n",
       "4                                               []  \n",
       "...                                            ...  \n",
       "21816                                           []  \n",
       "21817                                           []  \n",
       "21818     [Dothraki, Dany, today, tomorrow, Drogo]  \n",
       "21819                         [Daenerys Targaryen]  \n",
       "21820              [two, first, hundreds of years]  \n",
       "\n",
       "[21821 rows x 2 columns]"
      ]
     },
     "execution_count": 9,
     "metadata": {},
     "output_type": "execute_result"
    }
   ],
   "source": [
    "#Contains a table of sentences and the entities contained inside of them\n",
    "sent_entity_df"
   ]
  },
  {
   "cell_type": "code",
   "execution_count": 10,
   "id": "00a7d23c-c93d-411d-8211-883825a5a1b5",
   "metadata": {},
   "outputs": [],
   "source": [
    "#Filter table to only contain characters\n",
    "def filter_entity(ent_list, character_df):\n",
    "    return [ent for ent in ent_list if ent in list(character_df[\"FIRST_LAST\"])\n",
    "                                                   or ent in list(character_df[\"First Name\"])]"
   ]
  },
  {
   "cell_type": "code",
   "execution_count": 11,
   "id": "ef5050e5-ff1c-4f5f-bf5b-97c7b239fb82",
   "metadata": {
    "collapsed": true,
    "jupyter": {
     "outputs_hidden": true
    },
    "tags": []
   },
   "outputs": [
    {
     "data": {
      "text/html": [
       "<div>\n",
       "<style scoped>\n",
       "    .dataframe tbody tr th:only-of-type {\n",
       "        vertical-align: middle;\n",
       "    }\n",
       "\n",
       "    .dataframe tbody tr th {\n",
       "        vertical-align: top;\n",
       "    }\n",
       "\n",
       "    .dataframe thead th {\n",
       "        text-align: right;\n",
       "    }\n",
       "</style>\n",
       "<table border=\"1\" class=\"dataframe\">\n",
       "  <thead>\n",
       "    <tr style=\"text-align: right;\">\n",
       "      <th></th>\n",
       "      <th>Sentence</th>\n",
       "      <th>Entity</th>\n",
       "      <th>character_ent</th>\n",
       "    </tr>\n",
       "  </thead>\n",
       "  <tbody>\n",
       "    <tr>\n",
       "      <th>1</th>\n",
       "      <td>(They, set, forth, at, daybreak, to, see, a, m...</td>\n",
       "      <td>[twenty, Bran]</td>\n",
       "      <td>[Bran]</td>\n",
       "    </tr>\n",
       "    <tr>\n",
       "      <th>14</th>\n",
       "      <td>(Robb, and, Jon, sat, tall, and, still, on, th...</td>\n",
       "      <td>[Jon, Bran]</td>\n",
       "      <td>[Jon, Bran]</td>\n",
       "    </tr>\n",
       "    <tr>\n",
       "      <th>21</th>\n",
       "      <td>(He, had, taken, off, Father, ’s, face, ,, Bra...</td>\n",
       "      <td>[Bran, Stark, Winterfell]</td>\n",
       "      <td>[Bran]</td>\n",
       "    </tr>\n",
       "    <tr>\n",
       "      <th>22</th>\n",
       "      <td>(There, were, questions, asked, and, answers, ...</td>\n",
       "      <td>[morning, Bran]</td>\n",
       "      <td>[Bran]</td>\n",
       "    </tr>\n",
       "    <tr>\n",
       "      <th>25</th>\n",
       "      <td>(Lord, Eddard, Stark, dismounted, and, his, wa...</td>\n",
       "      <td>[Eddard Stark, Theon Greyjoy]</td>\n",
       "      <td>[Eddard Stark, Theon Greyjoy]</td>\n",
       "    </tr>\n",
       "    <tr>\n",
       "      <th>33</th>\n",
       "      <td>(Bran, ’s, bastard, brother, Jon, Snow, moved,...</td>\n",
       "      <td>[Jon Snow]</td>\n",
       "      <td>[Jon Snow]</td>\n",
       "    </tr>\n",
       "    <tr>\n",
       "      <th>45</th>\n",
       "      <td>(He, laughed, ,, put, his, boot, on, the, head...</td>\n",
       "      <td>[Jon, Greyjoy]</td>\n",
       "      <td>[Jon]</td>\n",
       "    </tr>\n",
       "    <tr>\n",
       "      <th>46</th>\n",
       "      <td>(He, put, a, hand, on, Bran, ’s, shoulder, ,, ...</td>\n",
       "      <td>[Bran’s, Bran]</td>\n",
       "      <td>[Bran]</td>\n",
       "    </tr>\n",
       "    <tr>\n",
       "      <th>47</th>\n",
       "      <td>(“, You, did, well, ,, ”, Jon, told, him, sole...</td>\n",
       "      <td>[Jon]</td>\n",
       "      <td>[Jon]</td>\n",
       "    </tr>\n",
       "    <tr>\n",
       "      <th>53</th>\n",
       "      <td>(“, He, had, courage, ,, at, the, least, ., ”,...</td>\n",
       "      <td>[Jon Snow]</td>\n",
       "      <td>[Jon Snow]</td>\n",
       "    </tr>\n",
       "  </tbody>\n",
       "</table>\n",
       "</div>"
      ],
      "text/plain": [
       "                                             Sentence  \\\n",
       "1   (They, set, forth, at, daybreak, to, see, a, m...   \n",
       "14  (Robb, and, Jon, sat, tall, and, still, on, th...   \n",
       "21  (He, had, taken, off, Father, ’s, face, ,, Bra...   \n",
       "22  (There, were, questions, asked, and, answers, ...   \n",
       "25  (Lord, Eddard, Stark, dismounted, and, his, wa...   \n",
       "33  (Bran, ’s, bastard, brother, Jon, Snow, moved,...   \n",
       "45  (He, laughed, ,, put, his, boot, on, the, head...   \n",
       "46  (He, put, a, hand, on, Bran, ’s, shoulder, ,, ...   \n",
       "47  (“, You, did, well, ,, ”, Jon, told, him, sole...   \n",
       "53  (“, He, had, courage, ,, at, the, least, ., ”,...   \n",
       "\n",
       "                           Entity                  character_ent  \n",
       "1                  [twenty, Bran]                         [Bran]  \n",
       "14                    [Jon, Bran]                    [Jon, Bran]  \n",
       "21      [Bran, Stark, Winterfell]                         [Bran]  \n",
       "22                [morning, Bran]                         [Bran]  \n",
       "25  [Eddard Stark, Theon Greyjoy]  [Eddard Stark, Theon Greyjoy]  \n",
       "33                     [Jon Snow]                     [Jon Snow]  \n",
       "45                 [Jon, Greyjoy]                          [Jon]  \n",
       "46                 [Bran’s, Bran]                         [Bran]  \n",
       "47                          [Jon]                          [Jon]  \n",
       "53                     [Jon Snow]                     [Jon Snow]  "
      ]
     },
     "execution_count": 11,
     "metadata": {},
     "output_type": "execute_result"
    }
   ],
   "source": [
    "#Remove those that do not contain a character within our csv file\n",
    "sent_entity_df['character_ent'] = sent_entity_df['Entity'].apply(lambda x: filter_entity(x, Book1_characters))\n",
    "#Remove empty lists\n",
    "sent_entity_df_filtered = sent_entity_df[sent_entity_df['character_ent'].map(len) > 0]\n",
    "sent_entity_df_filtered.head(10)"
   ]
  },
  {
   "cell_type": "code",
   "execution_count": 12,
   "id": "7652eef8-6a66-4381-9fa6-903356e6cafc",
   "metadata": {},
   "outputs": [
    {
     "name": "stderr",
     "output_type": "stream",
     "text": [
      "C:\\Users\\Baljo\\AppData\\Local\\Temp/ipykernel_9244/308629669.py:2: SettingWithCopyWarning: \n",
      "A value is trying to be set on a copy of a slice from a DataFrame.\n",
      "Try using .loc[row_indexer,col_indexer] = value instead\n",
      "\n",
      "See the caveats in the documentation: https://pandas.pydata.org/pandas-docs/stable/user_guide/indexing.html#returning-a-view-versus-a-copy\n",
      "  sent_entity_df_filtered['character_ent'] = sent_entity_df_filtered['character_ent'].apply(lambda x: [item.split(' ')[0] for item in x])\n"
     ]
    }
   ],
   "source": [
    "#Delete the last name and keep to first to remove any duplicates of the same character\n",
    "sent_entity_df_filtered['character_ent'] = sent_entity_df_filtered['character_ent'].apply(lambda x: [item.split(' ')[0] for item in x])"
   ]
  },
  {
   "cell_type": "code",
   "execution_count": 13,
   "id": "8fd2e929-a07f-4391-a836-2028cd9886c4",
   "metadata": {
    "collapsed": true,
    "jupyter": {
     "outputs_hidden": true
    },
    "tags": []
   },
   "outputs": [
    {
     "data": {
      "text/html": [
       "<div>\n",
       "<style scoped>\n",
       "    .dataframe tbody tr th:only-of-type {\n",
       "        vertical-align: middle;\n",
       "    }\n",
       "\n",
       "    .dataframe tbody tr th {\n",
       "        vertical-align: top;\n",
       "    }\n",
       "\n",
       "    .dataframe thead th {\n",
       "        text-align: right;\n",
       "    }\n",
       "</style>\n",
       "<table border=\"1\" class=\"dataframe\">\n",
       "  <thead>\n",
       "    <tr style=\"text-align: right;\">\n",
       "      <th></th>\n",
       "      <th>Sentence</th>\n",
       "      <th>Entity</th>\n",
       "      <th>character_ent</th>\n",
       "    </tr>\n",
       "  </thead>\n",
       "  <tbody>\n",
       "    <tr>\n",
       "      <th>1</th>\n",
       "      <td>(They, set, forth, at, daybreak, to, see, a, m...</td>\n",
       "      <td>[twenty, Bran]</td>\n",
       "      <td>[Bran]</td>\n",
       "    </tr>\n",
       "    <tr>\n",
       "      <th>14</th>\n",
       "      <td>(Robb, and, Jon, sat, tall, and, still, on, th...</td>\n",
       "      <td>[Jon, Bran]</td>\n",
       "      <td>[Jon, Bran]</td>\n",
       "    </tr>\n",
       "    <tr>\n",
       "      <th>21</th>\n",
       "      <td>(He, had, taken, off, Father, ’s, face, ,, Bra...</td>\n",
       "      <td>[Bran, Stark, Winterfell]</td>\n",
       "      <td>[Bran]</td>\n",
       "    </tr>\n",
       "    <tr>\n",
       "      <th>22</th>\n",
       "      <td>(There, were, questions, asked, and, answers, ...</td>\n",
       "      <td>[morning, Bran]</td>\n",
       "      <td>[Bran]</td>\n",
       "    </tr>\n",
       "    <tr>\n",
       "      <th>25</th>\n",
       "      <td>(Lord, Eddard, Stark, dismounted, and, his, wa...</td>\n",
       "      <td>[Eddard Stark, Theon Greyjoy]</td>\n",
       "      <td>[Eddard, Theon]</td>\n",
       "    </tr>\n",
       "    <tr>\n",
       "      <th>33</th>\n",
       "      <td>(Bran, ’s, bastard, brother, Jon, Snow, moved,...</td>\n",
       "      <td>[Jon Snow]</td>\n",
       "      <td>[Jon]</td>\n",
       "    </tr>\n",
       "    <tr>\n",
       "      <th>45</th>\n",
       "      <td>(He, laughed, ,, put, his, boot, on, the, head...</td>\n",
       "      <td>[Jon, Greyjoy]</td>\n",
       "      <td>[Jon]</td>\n",
       "    </tr>\n",
       "    <tr>\n",
       "      <th>46</th>\n",
       "      <td>(He, put, a, hand, on, Bran, ’s, shoulder, ,, ...</td>\n",
       "      <td>[Bran’s, Bran]</td>\n",
       "      <td>[Bran]</td>\n",
       "    </tr>\n",
       "    <tr>\n",
       "      <th>47</th>\n",
       "      <td>(“, You, did, well, ,, ”, Jon, told, him, sole...</td>\n",
       "      <td>[Jon]</td>\n",
       "      <td>[Jon]</td>\n",
       "    </tr>\n",
       "    <tr>\n",
       "      <th>53</th>\n",
       "      <td>(“, He, had, courage, ,, at, the, least, ., ”,...</td>\n",
       "      <td>[Jon Snow]</td>\n",
       "      <td>[Jon]</td>\n",
       "    </tr>\n",
       "  </tbody>\n",
       "</table>\n",
       "</div>"
      ],
      "text/plain": [
       "                                             Sentence  \\\n",
       "1   (They, set, forth, at, daybreak, to, see, a, m...   \n",
       "14  (Robb, and, Jon, sat, tall, and, still, on, th...   \n",
       "21  (He, had, taken, off, Father, ’s, face, ,, Bra...   \n",
       "22  (There, were, questions, asked, and, answers, ...   \n",
       "25  (Lord, Eddard, Stark, dismounted, and, his, wa...   \n",
       "33  (Bran, ’s, bastard, brother, Jon, Snow, moved,...   \n",
       "45  (He, laughed, ,, put, his, boot, on, the, head...   \n",
       "46  (He, put, a, hand, on, Bran, ’s, shoulder, ,, ...   \n",
       "47  (“, You, did, well, ,, ”, Jon, told, him, sole...   \n",
       "53  (“, He, had, courage, ,, at, the, least, ., ”,...   \n",
       "\n",
       "                           Entity    character_ent  \n",
       "1                  [twenty, Bran]           [Bran]  \n",
       "14                    [Jon, Bran]      [Jon, Bran]  \n",
       "21      [Bran, Stark, Winterfell]           [Bran]  \n",
       "22                [morning, Bran]           [Bran]  \n",
       "25  [Eddard Stark, Theon Greyjoy]  [Eddard, Theon]  \n",
       "33                     [Jon Snow]            [Jon]  \n",
       "45                 [Jon, Greyjoy]            [Jon]  \n",
       "46                 [Bran’s, Bran]           [Bran]  \n",
       "47                          [Jon]            [Jon]  \n",
       "53                     [Jon Snow]            [Jon]  "
      ]
     },
     "execution_count": 13,
     "metadata": {},
     "output_type": "execute_result"
    }
   ],
   "source": [
    "sent_entity_df_filtered.head(10)"
   ]
  },
  {
   "cell_type": "markdown",
   "id": "dd6ae99c-90f4-4c03-b5a8-819329190e46",
   "metadata": {},
   "source": [
    "## Relationship Method"
   ]
  },
  {
   "cell_type": "code",
   "execution_count": 14,
   "id": "b30e8d3d-4945-47e3-a25b-acfcba3f1c88",
   "metadata": {
    "tags": []
   },
   "outputs": [],
   "source": [
    "window_size = 5\n",
    "relationships = []\n",
    "\n",
    "for i in range(sent_entity_df_filtered.index[-1]):\n",
    "    end_i = min(i + 5, sent_entity_df_filtered.index[-1])\n",
    "    char_list = sum((sent_entity_df_filtered.loc[i: end_i].character_ent), [])\n",
    "    #remove names that appear twice in a list\n",
    "    char_uniq = [char_list[i] for i in range(len(char_list)) if (i==0) or char_list[i] != char_list[i-1]]\n",
    "    \n",
    "    if len(char_uniq) > 1:\n",
    "        for idx, a in enumerate(char_uniq[:-1]):\n",
    "            b = char_uniq[idx + 1]\n",
    "            relationships.append({\"Source\": a, \"target\": b})"
   ]
  },
  {
   "cell_type": "code",
   "execution_count": 15,
   "id": "ed1fda3a-5094-49cd-9525-ae35599c5228",
   "metadata": {},
   "outputs": [],
   "source": [
    "relationship_df = pd.DataFrame(relationships)"
   ]
  },
  {
   "cell_type": "code",
   "execution_count": 16,
   "id": "dca1a3e2-e4b2-4a11-899c-ecb05b0cfed5",
   "metadata": {
    "collapsed": true,
    "jupyter": {
     "outputs_hidden": true
    },
    "tags": []
   },
   "outputs": [
    {
     "data": {
      "text/html": [
       "<div>\n",
       "<style scoped>\n",
       "    .dataframe tbody tr th:only-of-type {\n",
       "        vertical-align: middle;\n",
       "    }\n",
       "\n",
       "    .dataframe tbody tr th {\n",
       "        vertical-align: top;\n",
       "    }\n",
       "\n",
       "    .dataframe thead th {\n",
       "        text-align: right;\n",
       "    }\n",
       "</style>\n",
       "<table border=\"1\" class=\"dataframe\">\n",
       "  <thead>\n",
       "    <tr style=\"text-align: right;\">\n",
       "      <th></th>\n",
       "      <th>Source</th>\n",
       "      <th>target</th>\n",
       "    </tr>\n",
       "  </thead>\n",
       "  <tbody>\n",
       "    <tr>\n",
       "      <th>0</th>\n",
       "      <td>Jon</td>\n",
       "      <td>Bran</td>\n",
       "    </tr>\n",
       "    <tr>\n",
       "      <th>1</th>\n",
       "      <td>Jon</td>\n",
       "      <td>Bran</td>\n",
       "    </tr>\n",
       "    <tr>\n",
       "      <th>2</th>\n",
       "      <td>Jon</td>\n",
       "      <td>Bran</td>\n",
       "    </tr>\n",
       "    <tr>\n",
       "      <th>3</th>\n",
       "      <td>Jon</td>\n",
       "      <td>Bran</td>\n",
       "    </tr>\n",
       "    <tr>\n",
       "      <th>4</th>\n",
       "      <td>Jon</td>\n",
       "      <td>Bran</td>\n",
       "    </tr>\n",
       "    <tr>\n",
       "      <th>...</th>\n",
       "      <td>...</td>\n",
       "      <td>...</td>\n",
       "    </tr>\n",
       "    <tr>\n",
       "      <th>2332</th>\n",
       "      <td>Cersei</td>\n",
       "      <td>Catelyn</td>\n",
       "    </tr>\n",
       "    <tr>\n",
       "      <th>2333</th>\n",
       "      <td>Cersei</td>\n",
       "      <td>Catelyn</td>\n",
       "    </tr>\n",
       "    <tr>\n",
       "      <th>2334</th>\n",
       "      <td>Cersei</td>\n",
       "      <td>Catelyn</td>\n",
       "    </tr>\n",
       "    <tr>\n",
       "      <th>2335</th>\n",
       "      <td>Cersei</td>\n",
       "      <td>Catelyn</td>\n",
       "    </tr>\n",
       "    <tr>\n",
       "      <th>2336</th>\n",
       "      <td>Catelyn</td>\n",
       "      <td>Stannis</td>\n",
       "    </tr>\n",
       "  </tbody>\n",
       "</table>\n",
       "<p>2337 rows × 2 columns</p>\n",
       "</div>"
      ],
      "text/plain": [
       "       Source   target\n",
       "0         Jon     Bran\n",
       "1         Jon     Bran\n",
       "2         Jon     Bran\n",
       "3         Jon     Bran\n",
       "4         Jon     Bran\n",
       "...       ...      ...\n",
       "2332   Cersei  Catelyn\n",
       "2333   Cersei  Catelyn\n",
       "2334   Cersei  Catelyn\n",
       "2335   Cersei  Catelyn\n",
       "2336  Catelyn  Stannis\n",
       "\n",
       "[2337 rows x 2 columns]"
      ]
     },
     "execution_count": 16,
     "metadata": {},
     "output_type": "execute_result"
    }
   ],
   "source": [
    "relationship_df"
   ]
  },
  {
   "cell_type": "markdown",
   "id": "f86c53e1-74d6-4cc8-9bc0-e2032efde49c",
   "metadata": {},
   "source": [
    "## Aggregate Columns"
   ]
  },
  {
   "cell_type": "code",
   "execution_count": 17,
   "id": "b9105221-cee8-437c-be04-5936737a89ad",
   "metadata": {
    "collapsed": true,
    "jupyter": {
     "outputs_hidden": true
    },
    "tags": []
   },
   "outputs": [
    {
     "data": {
      "text/html": [
       "<div>\n",
       "<style scoped>\n",
       "    .dataframe tbody tr th:only-of-type {\n",
       "        vertical-align: middle;\n",
       "    }\n",
       "\n",
       "    .dataframe tbody tr th {\n",
       "        vertical-align: top;\n",
       "    }\n",
       "\n",
       "    .dataframe thead th {\n",
       "        text-align: right;\n",
       "    }\n",
       "</style>\n",
       "<table border=\"1\" class=\"dataframe\">\n",
       "  <thead>\n",
       "    <tr style=\"text-align: right;\">\n",
       "      <th></th>\n",
       "      <th>Source</th>\n",
       "      <th>target</th>\n",
       "    </tr>\n",
       "  </thead>\n",
       "  <tbody>\n",
       "    <tr>\n",
       "      <th>0</th>\n",
       "      <td>Bran</td>\n",
       "      <td>Jon</td>\n",
       "    </tr>\n",
       "    <tr>\n",
       "      <th>1</th>\n",
       "      <td>Bran</td>\n",
       "      <td>Jon</td>\n",
       "    </tr>\n",
       "    <tr>\n",
       "      <th>2</th>\n",
       "      <td>Bran</td>\n",
       "      <td>Jon</td>\n",
       "    </tr>\n",
       "    <tr>\n",
       "      <th>3</th>\n",
       "      <td>Bran</td>\n",
       "      <td>Jon</td>\n",
       "    </tr>\n",
       "    <tr>\n",
       "      <th>4</th>\n",
       "      <td>Bran</td>\n",
       "      <td>Jon</td>\n",
       "    </tr>\n",
       "    <tr>\n",
       "      <th>...</th>\n",
       "      <td>...</td>\n",
       "      <td>...</td>\n",
       "    </tr>\n",
       "    <tr>\n",
       "      <th>2332</th>\n",
       "      <td>Catelyn</td>\n",
       "      <td>Cersei</td>\n",
       "    </tr>\n",
       "    <tr>\n",
       "      <th>2333</th>\n",
       "      <td>Catelyn</td>\n",
       "      <td>Cersei</td>\n",
       "    </tr>\n",
       "    <tr>\n",
       "      <th>2334</th>\n",
       "      <td>Catelyn</td>\n",
       "      <td>Cersei</td>\n",
       "    </tr>\n",
       "    <tr>\n",
       "      <th>2335</th>\n",
       "      <td>Catelyn</td>\n",
       "      <td>Cersei</td>\n",
       "    </tr>\n",
       "    <tr>\n",
       "      <th>2336</th>\n",
       "      <td>Catelyn</td>\n",
       "      <td>Stannis</td>\n",
       "    </tr>\n",
       "  </tbody>\n",
       "</table>\n",
       "<p>2337 rows × 2 columns</p>\n",
       "</div>"
      ],
      "text/plain": [
       "       Source   target\n",
       "0        Bran      Jon\n",
       "1        Bran      Jon\n",
       "2        Bran      Jon\n",
       "3        Bran      Jon\n",
       "4        Bran      Jon\n",
       "...       ...      ...\n",
       "2332  Catelyn   Cersei\n",
       "2333  Catelyn   Cersei\n",
       "2334  Catelyn   Cersei\n",
       "2335  Catelyn   Cersei\n",
       "2336  Catelyn  Stannis\n",
       "\n",
       "[2337 rows x 2 columns]"
      ]
     },
     "execution_count": 17,
     "metadata": {},
     "output_type": "execute_result"
    }
   ],
   "source": [
    "relationship_df = pd.DataFrame(np.sort(relationship_df.values, axis = 1), columns = relationship_df.columns)\n",
    "relationship_df"
   ]
  },
  {
   "cell_type": "code",
   "execution_count": 18,
   "id": "cc0bc0d1-c5f1-4511-afea-df731f592be4",
   "metadata": {},
   "outputs": [],
   "source": [
    "relationship_df[\"value\"] = 1\n",
    "relationship_df = relationship_df.groupby([\"Source\",\"target\"], sort=False, as_index=False).sum()"
   ]
  },
  {
   "cell_type": "code",
   "execution_count": 19,
   "id": "239a167e-31e0-42e5-9d66-9171f6561345",
   "metadata": {
    "tags": []
   },
   "outputs": [
    {
     "data": {
      "text/html": [
       "<div>\n",
       "<style scoped>\n",
       "    .dataframe tbody tr th:only-of-type {\n",
       "        vertical-align: middle;\n",
       "    }\n",
       "\n",
       "    .dataframe tbody tr th {\n",
       "        vertical-align: top;\n",
       "    }\n",
       "\n",
       "    .dataframe thead th {\n",
       "        text-align: right;\n",
       "    }\n",
       "</style>\n",
       "<table border=\"1\" class=\"dataframe\">\n",
       "  <thead>\n",
       "    <tr style=\"text-align: right;\">\n",
       "      <th></th>\n",
       "      <th>Source</th>\n",
       "      <th>target</th>\n",
       "      <th>value</th>\n",
       "    </tr>\n",
       "  </thead>\n",
       "  <tbody>\n",
       "    <tr>\n",
       "      <th>0</th>\n",
       "      <td>Bran</td>\n",
       "      <td>Jon</td>\n",
       "      <td>142</td>\n",
       "    </tr>\n",
       "    <tr>\n",
       "      <th>1</th>\n",
       "      <td>Bran</td>\n",
       "      <td>Eddard</td>\n",
       "      <td>3</td>\n",
       "    </tr>\n",
       "    <tr>\n",
       "      <th>2</th>\n",
       "      <td>Eddard</td>\n",
       "      <td>Theon</td>\n",
       "      <td>12</td>\n",
       "    </tr>\n",
       "    <tr>\n",
       "      <th>3</th>\n",
       "      <td>Jon</td>\n",
       "      <td>Theon</td>\n",
       "      <td>27</td>\n",
       "    </tr>\n",
       "    <tr>\n",
       "      <th>4</th>\n",
       "      <td>Bran</td>\n",
       "      <td>Theon</td>\n",
       "      <td>56</td>\n",
       "    </tr>\n",
       "    <tr>\n",
       "      <th>...</th>\n",
       "      <td>...</td>\n",
       "      <td>...</td>\n",
       "      <td>...</td>\n",
       "    </tr>\n",
       "    <tr>\n",
       "      <th>89</th>\n",
       "      <td>Sansa</td>\n",
       "      <td>Stannis</td>\n",
       "      <td>3</td>\n",
       "    </tr>\n",
       "    <tr>\n",
       "      <th>90</th>\n",
       "      <td>Margaery</td>\n",
       "      <td>Tywin</td>\n",
       "      <td>3</td>\n",
       "    </tr>\n",
       "    <tr>\n",
       "      <th>91</th>\n",
       "      <td>Jaime</td>\n",
       "      <td>Roose</td>\n",
       "      <td>5</td>\n",
       "    </tr>\n",
       "    <tr>\n",
       "      <th>92</th>\n",
       "      <td>Roose</td>\n",
       "      <td>Stannis</td>\n",
       "      <td>1</td>\n",
       "    </tr>\n",
       "    <tr>\n",
       "      <th>93</th>\n",
       "      <td>Arya</td>\n",
       "      <td>Petyr</td>\n",
       "      <td>10</td>\n",
       "    </tr>\n",
       "  </tbody>\n",
       "</table>\n",
       "<p>94 rows × 3 columns</p>\n",
       "</div>"
      ],
      "text/plain": [
       "      Source   target  value\n",
       "0       Bran      Jon    142\n",
       "1       Bran   Eddard      3\n",
       "2     Eddard    Theon     12\n",
       "3        Jon    Theon     27\n",
       "4       Bran    Theon     56\n",
       "..       ...      ...    ...\n",
       "89     Sansa  Stannis      3\n",
       "90  Margaery    Tywin      3\n",
       "91     Jaime    Roose      5\n",
       "92     Roose  Stannis      1\n",
       "93      Arya    Petyr     10\n",
       "\n",
       "[94 rows x 3 columns]"
      ]
     },
     "execution_count": 19,
     "metadata": {},
     "output_type": "execute_result"
    }
   ],
   "source": [
    "#Table containing relationship and the frequency of this relationship\n",
    "relationship_df"
   ]
  },
  {
   "cell_type": "markdown",
   "id": "0ca866a0-2af1-4512-aa27-8c446799cd57",
   "metadata": {},
   "source": [
    "## Visualization"
   ]
  },
  {
   "cell_type": "code",
   "execution_count": 20,
   "id": "d03b42ef-bdd7-4951-a1b0-522d3271d685",
   "metadata": {},
   "outputs": [],
   "source": [
    "Graph = nx.from_pandas_edgelist(relationship_df, source = \"Source\", target=\"target\", edge_attr = \"value\", create_using = nx.Graph())"
   ]
  },
  {
   "cell_type": "code",
   "execution_count": 21,
   "id": "6e1e69c3-1457-4589-ba7e-b75a666e8f8e",
   "metadata": {},
   "outputs": [
    {
     "data": {
      "image/png": "[encoded data removed]",
      "text/plain": [
       "<Figure size 720x720 with 1 Axes>"
      ]
     },
     "metadata": {},
     "output_type": "display_data"
    }
   ],
   "source": [
    "#If there is an issue with scipy this is the solution:\n",
    "#import sys\n",
    "#!sys.executable -m pip install scipy\n",
    "plt.figure(figsize=(10,10))\n",
    "pos = nx.kamada_kawai_layout(Graph)\n",
    "nx.draw(Graph, with_labels=True, node_color='red', edge_cmap=plt.cm.Blues, pos = pos)\n",
    "plt.show()"
   ]
  },
  {
   "cell_type": "code",
   "execution_count": 22,
   "id": "3d979165-850c-487e-86ac-c7b4f8f489cf",
   "metadata": {},
   "outputs": [
    {
     "name": "stdout",
     "output_type": "stream",
     "text": [
      "Local cdn resources have problems on chrome/safari when used in jupyter-notebook. \n"
     ]
    },
    {
     "data": {
      "text/html": [
       "\n",
       "        <iframe\n",
       "            width=\"1000px\"\n",
       "            height=\"700px\"\n",
       "            src=\"GOT.html\"\n",
       "            frameborder=\"0\"\n",
       "            allowfullscreen\n",
       "        ></iframe>\n",
       "        "
      ],
      "text/plain": [
       "<IPython.lib.display.IFrame at 0x1ef90ab2760>"
      ]
     },
     "execution_count": 22,
     "metadata": {},
     "output_type": "execute_result"
    }
   ],
   "source": [
    "from pyvis.network import Network\n",
    "net = Network(notebook = True, width=\"1000px\", height=\"700px\", bgcolor=\"#222222\", font_color=\"white\")\n",
    "#degree is the number of connections a node has\n",
    "node_degree = dict(Graph.degree) \n",
    "\n",
    "#size of nodes based on node_degree\n",
    "nx.set_node_attributes(Graph, node_degree, 'size')\n",
    "\n",
    "net.from_nx(Graph)\n",
    "net.show(\"GOT.html\")"
   ]
  },
  {
   "cell_type": "code",
   "execution_count": 23,
   "id": "b662471a-6e44-4000-963e-676b246db0e2",
   "metadata": {},
   "outputs": [
    {
     "data": {
      "text/plain": [
       "{'Bran': 11,\n",
       " 'Jon': 14,\n",
       " 'Eddard': 11,\n",
       " 'Theon': 8,\n",
       " 'Catelyn': 16,\n",
       " 'Cersei': 11,\n",
       " 'Tywin': 17,\n",
       " 'Joffrey': 11,\n",
       " 'Jaime': 13,\n",
       " 'Tyrion': 8,\n",
       " 'Arya': 12,\n",
       " 'Sansa': 13,\n",
       " 'Stannis': 10,\n",
       " 'Daenerys': 2,\n",
       " 'Jorah': 4,\n",
       " 'Petyr': 7,\n",
       " 'Varys': 11,\n",
       " 'Samwell': 3,\n",
       " 'Roose': 5,\n",
       " 'Margaery': 1}"
      ]
     },
     "execution_count": 23,
     "metadata": {},
     "output_type": "execute_result"
    }
   ],
   "source": [
    "dict(Graph.degree)"
   ]
  },
  {
   "cell_type": "markdown",
   "id": "3aa8a02f-7d9c-4ab2-99da-4261b2459c53",
   "metadata": {},
   "source": [
    "## Character Importance"
   ]
  },
  {
   "cell_type": "code",
   "execution_count": 24,
   "id": "8aa6188b-3fc6-4832-aad6-2c839ae3ee7a",
   "metadata": {},
   "outputs": [
    {
     "data": {
      "text/plain": [
       "{'Bran': 0.5789473684210527,\n",
       " 'Jon': 0.7368421052631579,\n",
       " 'Eddard': 0.5789473684210527,\n",
       " 'Theon': 0.42105263157894735,\n",
       " 'Catelyn': 0.8421052631578947,\n",
       " 'Cersei': 0.5789473684210527,\n",
       " 'Tywin': 0.894736842105263,\n",
       " 'Joffrey': 0.5789473684210527,\n",
       " 'Jaime': 0.6842105263157894,\n",
       " 'Tyrion': 0.42105263157894735,\n",
       " 'Arya': 0.631578947368421,\n",
       " 'Sansa': 0.6842105263157894,\n",
       " 'Stannis': 0.5263157894736842,\n",
       " 'Daenerys': 0.10526315789473684,\n",
       " 'Jorah': 0.21052631578947367,\n",
       " 'Petyr': 0.3684210526315789,\n",
       " 'Varys': 0.5789473684210527,\n",
       " 'Samwell': 0.15789473684210525,\n",
       " 'Roose': 0.2631578947368421,\n",
       " 'Margaery': 0.05263157894736842}"
      ]
     },
     "execution_count": 24,
     "metadata": {},
     "output_type": "execute_result"
    }
   ],
   "source": [
    "degree_dict = nx.degree_centrality(Graph)\n",
    "degree_dict"
   ]
  },
  {
   "cell_type": "code",
   "execution_count": 28,
   "id": "911a3c88-e087-49ce-9ff3-ca2a8ea7c9ca",
   "metadata": {},
   "outputs": [
    {
     "data": {
      "text/plain": [
       "<AxesSubplot:>"
      ]
     },
     "execution_count": 28,
     "metadata": {},
     "output_type": "execute_result"
    },
    {
     "data": {
      "image/png": "[encoded data removed]",
      "text/plain": [
       "<Figure size 432x288 with 1 Axes>"
      ]
     },
     "metadata": {
      "needs_background": "light"
     },
     "output_type": "display_data"
    }
   ],
   "source": [
    "degree_df = pd.DataFrame.from_dict(degree_dict, orient='index', columns=['centrality'])\n",
    "degree_df.sort_values('centrality', ascending=False)[0:9].plot(kind=\"bar\")"
   ]
  },
  {
   "cell_type": "code",
   "execution_count": 29,
   "id": "96f5dca8-f6bf-4479-8a93-8095272d8307",
   "metadata": {},
   "outputs": [
    {
     "data": {
      "text/plain": [
       "<AxesSubplot:>"
      ]
     },
     "execution_count": 29,
     "metadata": {},
     "output_type": "execute_result"
    },
    {
     "data": {
      "image/png": "[encoded data removed]",
      "text/plain": [
       "<Figure size 432x288 with 1 Axes>"
      ]
     },
     "metadata": {
      "needs_background": "light"
     },
     "output_type": "display_data"
    }
   ],
   "source": [
    "betweenness_dict = nx.betweenness_centrality(Graph)\n",
    "betweenness_df = pd.DataFrame.from_dict(degree_dict, orient='index', columns=['centrality'])\n",
    "betweenness_df.sort_values('centrality', ascending=False)[0:9].plot(kind=\"bar\")"
   ]
  },
  {
   "cell_type": "code",
   "execution_count": 30,
   "id": "c934c096-c41f-4038-8966-4757018d9038",
   "metadata": {},
   "outputs": [
    {
     "data": {
      "text/plain": [
       "<AxesSubplot:>"
      ]
     },
     "execution_count": 30,
     "metadata": {},
     "output_type": "execute_result"
    },
    {
     "data": {
      "image/png": "[encoded data removed]",
      "text/plain": [
       "<Figure size 432x288 with 1 Axes>"
      ]
     },
     "metadata": {
      "needs_background": "light"
     },
     "output_type": "display_data"
    }
   ],
   "source": [
    "closeness_dict = nx.closeness_centrality(Graph)\n",
    "closeness_df = pd.DataFrame.from_dict(closeness_dict, orient='index', columns=['centrality'])\n",
    "closeness_df.sort_values('centrality', ascending=False)[0:9].plot(kind=\"bar\")"
   ]
  },
  {
   "cell_type": "code",
   "execution_count": 31,
   "id": "a6a1a86f-822d-4004-9150-4afabb8b5cc6",
   "metadata": {},
   "outputs": [],
   "source": [
    "nx.set_node_attributes(Graph, degree_dict, 'degree_centrality')\n",
    "nx.set_node_attributes(Graph, betweenness_dict, 'betweenness_centrality')\n",
    "nx.set_node_attributes(Graph, closeness_dict, 'closeness_centrality')"
   ]
  },
  {
   "cell_type": "code",
   "execution_count": 34,
   "id": "9990e3d5-214c-476e-9967-0adbb29c9bcd",
   "metadata": {
    "tags": []
   },
   "outputs": [],
   "source": [
    "import community as community_louvain"
   ]
  },
  {
   "cell_type": "code",
   "execution_count": 35,
   "id": "9ff186e4-91e4-40ef-9adc-18c7c90e6ff9",
   "metadata": {
    "tags": []
   },
   "outputs": [
    {
     "data": {
      "text/plain": [
       "{'Bran': 2,\n",
       " 'Jon': 1,\n",
       " 'Eddard': 2,\n",
       " 'Theon': 2,\n",
       " 'Catelyn': 1,\n",
       " 'Cersei': 1,\n",
       " 'Tywin': 2,\n",
       " 'Joffrey': 0,\n",
       " 'Jaime': 2,\n",
       " 'Tyrion': 1,\n",
       " 'Arya': 0,\n",
       " 'Sansa': 0,\n",
       " 'Stannis': 2,\n",
       " 'Daenerys': 0,\n",
       " 'Jorah': 0,\n",
       " 'Petyr': 0,\n",
       " 'Varys': 0,\n",
       " 'Samwell': 1,\n",
       " 'Roose': 2,\n",
       " 'Margaery': 2}"
      ]
     },
     "execution_count": 35,
     "metadata": {},
     "output_type": "execute_result"
    }
   ],
   "source": [
    "communities = community_louvain.best_partition(Graph)\n",
    "communities"
   ]
  },
  {
   "cell_type": "code",
   "execution_count": 36,
   "id": "553b1a12-0975-4a67-84b3-75ba052dc4f1",
   "metadata": {},
   "outputs": [],
   "source": [
    "nx.set_node_attributes(Graph, communities, 'group')"
   ]
  },
  {
   "cell_type": "code",
   "execution_count": 47,
   "id": "c3f9ee83-7e10-4841-99c2-5311c21adfdb",
   "metadata": {},
   "outputs": [
    {
     "name": "stdout",
     "output_type": "stream",
     "text": [
      "Local cdn resources have problems on chrome/safari when used in jupyter-notebook. \n"
     ]
    },
    {
     "data": {
      "text/html": [
       "\n",
       "        <iframe\n",
       "            width=\"1000px\"\n",
       "            height=\"700px\"\n",
       "            src=\"GOT_Communities.html\"\n",
       "            frameborder=\"0\"\n",
       "            allowfullscreen\n",
       "        ></iframe>\n",
       "        "
      ],
      "text/plain": [
       "<IPython.lib.display.IFrame at 0x1ef92084610>"
      ]
     },
     "execution_count": 47,
     "metadata": {},
     "output_type": "execute_result"
    }
   ],
   "source": [
    "community_network = Network(notebook = True, width=\"1000px\", height=\"700px\", bgcolor=\"#222222\", font_color='white')\n",
    "community_network.from_nx(Graph)\n",
    "community_network.show(\"GOT_Communities.html\")"
   ]
  },
  {
   "cell_type": "code",
   "execution_count": null,
   "id": "6cc6b1d4-14dc-4453-b946-48f9b9ed8ea4",
   "metadata": {},
   "outputs": [],
   "source": []
  },
  {
   "cell_type": "code",
   "execution_count": null,
   "id": "aa4cf976-334b-448b-abec-01777963e35e",
   "metadata": {},
   "outputs": [],
   "source": []
  }
 ],
 "metadata": {
  "kernelspec": {
   "display_name": "Python 3 (ipykernel)",
   "language": "python",
   "name": "python3"
  },
  "language_info": {
   "codemirror_mode": {
    "name": "ipython",
    "version": 3
   },
   "file_extension": ".py",
   "mimetype": "text/x-python",
   "name": "python",
   "nbconvert_exporter": "python",
   "pygments_lexer": "ipython3",
   "version": "3.9.7"
  }
 },
 "nbformat": 4,
 "nbformat_minor": 5
}
